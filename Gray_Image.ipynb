{
  "nbformat": 4,
  "nbformat_minor": 0,
  "metadata": {
    "colab": {
      "provenance": [],
      "include_colab_link": true
    },
    "kernelspec": {
      "name": "python3",
      "display_name": "Python 3"
    },
    "language_info": {
      "name": "python"
    }
  },
  "cells": [
    {
      "cell_type": "markdown",
      "metadata": {
        "id": "view-in-github",
        "colab_type": "text"
      },
      "source": [
        "<a href=\"https://colab.research.google.com/github/Mariam-Nazlawy/Image-Compression/blob/main/Gray_Image.ipynb\" target=\"_parent\"><img src=\"https://colab.research.google.com/assets/colab-badge.svg\" alt=\"Open In Colab\"/></a>"
      ]
    },
    {
      "cell_type": "markdown",
      "source": [
        "## Load Important Libraries"
      ],
      "metadata": {
        "id": "kbj7NGOhWpwN"
      }
    },
    {
      "cell_type": "code",
      "execution_count": null,
      "metadata": {
        "id": "MkbMygaYpAku"
      },
      "outputs": [],
      "source": [
        "import numpy as np\n",
        "from numpy.linalg import eigh\n",
        "import matplotlib.pyplot as plt\n",
        "import matplotlib.image as mpimg\n",
        "from tensorflow.keras.datasets.mnist import load_data"
      ]
    },
    {
      "cell_type": "markdown",
      "source": [
        "## Load the mnist dataset"
      ],
      "metadata": {
        "id": "WCn72hskanSU"
      }
    },
    {
      "cell_type": "code",
      "source": [
        "(x_train, y_train), (x_test, y_test) = load_data()"
      ],
      "metadata": {
        "id": "U541bmz05-vB"
      },
      "execution_count": null,
      "outputs": []
    },
    {
      "cell_type": "markdown",
      "source": [
        "## Choose Image and visualize it"
      ],
      "metadata": {
        "id": "DKWpUjLDaxP_"
      }
    },
    {
      "cell_type": "code",
      "source": [
        "img = x_train[3000]\n",
        "plt.imshow(img)\n",
        "plt.show()"
      ],
      "metadata": {
        "colab": {
          "base_uri": "https://localhost:8080/",
          "height": 430
        },
        "id": "jPQGPN73e04Z",
        "outputId": "42a8550e-bf56-4b5a-adc5-5088a3cdbe14"
      },
      "execution_count": null,
      "outputs": [
        {
          "output_type": "display_data",
          "data": {
            "text/plain": [
              "<Figure size 640x480 with 1 Axes>"
            ],
            "image/png": "[encoded data removed]"
          },
          "metadata": {}
        }
      ]
    },
    {
      "cell_type": "markdown",
      "source": [
        "Normalizion"
      ],
      "metadata": {
        "id": "ERzkVd0Ia__l"
      }
    },
    {
      "cell_type": "code",
      "source": [
        "def Image_Preprocessing(img):\n",
        "  # normalization\n",
        "  normalized_img = img / 255.0\n",
        "  return normalized_img"
      ],
      "metadata": {
        "id": "BNohHO__6XMu"
      },
      "execution_count": null,
      "outputs": []
    },
    {
      "cell_type": "markdown",
      "source": [
        "## PCA Algorithm Implementation"
      ],
      "metadata": {
        "id": "HkgwVeHnbKmG"
      }
    },
    {
      "cell_type": "code",
      "source": [
        "class PCA:\n",
        "  def __init__(self, num_of_componants, selected_eigenvectors = np.ndarray([])):\n",
        "    self.num_of_componants = num_of_componants\n",
        "\n",
        "\n",
        "# Calculate the covariance matrix\n",
        "  def calc_covariance(self, preprocessed_img):\n",
        "    covariance_matrix = np.cov(preprocessed_img)\n",
        "    return covariance_matrix\n",
        "\n",
        "# Calculate eigenvalues and eigenvectors\n",
        "  def calc_eigenvalues_eigenvectors(self, covariance_matrix):\n",
        "    eigenvalues, eigenvectors = eigh(covariance_matrix)\n",
        "    selected_eigenvectors = self.select_eigenvectors(eigenvalues, eigenvectors)\n",
        "    return selected_eigenvectors\n",
        "\n",
        "# Select eigenvectors with highest covariance\n",
        "  def select_eigenvectors(self, eigenvalues, eigenvectors):\n",
        "\n",
        "    # Sort eigenvalues in descending order\n",
        "    sorted_indices = np.argsort(eigenvalues)[::-1]\n",
        "    eigenvalues = eigenvalues[sorted_indices]\n",
        "    eigenvectors = eigenvectors[:, sorted_indices]\n",
        "\n",
        "    # select from the beginning till num of componants\n",
        "    selected_eigenvalues = eigenvalues[:self.num_of_componants]\n",
        "    selected_eigenvectors = eigenvectors[:, :self.num_of_componants]\n",
        "\n",
        "    self.selected_eigenvectors = selected_eigenvectors\n",
        "\n",
        "    return selected_eigenvectors\n",
        "\n",
        "  def compress(self, preprocessed_img):\n",
        "    covariance_matrix = self.calc_covariance(preprocessed_img)\n",
        "    selected_eigenvectors = self.calc_eigenvalues_eigenvectors(covariance_matrix)\n",
        "    compressed_img = np.dot(preprocessed_img, selected_eigenvectors)\n",
        "    return compressed_img\n",
        "\n",
        "  # Reconstruct the compressed image\n",
        "  def reconstruct(self, compressed_img, preprocessed_img):\n",
        "    reconstructed_img = np.dot(compressed_img, self.selected_eigenvectors.T)\n",
        "\n",
        "    # Reshape the reconstructed image back to its original shape\n",
        "    reconstructed_img = reconstructed_img.reshape(preprocessed_img.shape)\n",
        "\n",
        "    return reconstructed_img\n",
        "\n",
        "  def visualise_compressed_img(self, compressed_img):\n",
        "    # Visualize the original and compressed image\n",
        "    plt.figure(figsize=(8, 4))\n",
        "    plt.imshow(compressed_img.reshape(28,28))\n",
        "    plt.title('compressed Image')\n",
        "    plt.axis('off')\n",
        "    plt.show()\n",
        "\n",
        "  def visualise_decompressed_img(self, reconstructed_img):\n",
        "    # Visualize the decompressed image\n",
        "    plt.figure(figsize=(8, 4))\n",
        "    plt.subplot(1, 2, 2)\n",
        "    plt.imshow(reconstructed_img.reshape(28,28))\n",
        "    plt.title('Decompressed Image')\n",
        "    plt.axis('off')\n",
        "    plt.show()\n"
      ],
      "metadata": {
        "id": "6tp5iK3l8DZ6"
      },
      "execution_count": null,
      "outputs": []
    },
    {
      "cell_type": "markdown",
      "source": [
        "## Normalize the image"
      ],
      "metadata": {
        "id": "k1pnXx_hbd7-"
      }
    },
    {
      "cell_type": "code",
      "source": [
        "preprocessed_img = Image_Preprocessing(img)\n",
        "preprocessed_img.shape"
      ],
      "metadata": {
        "id": "-c3EHlnYP6Bj",
        "colab": {
          "base_uri": "https://localhost:8080/"
        },
        "outputId": "466cee24-5d11-4b0a-d39f-58d05bc9bf7e"
      },
      "execution_count": null,
      "outputs": [
        {
          "output_type": "execute_result",
          "data": {
            "text/plain": [
              "(28, 28)"
            ]
          },
          "metadata": {},
          "execution_count": 18
        }
      ]
    },
    {
      "cell_type": "markdown",
      "source": [
        "## Choose number of components and compress the image"
      ],
      "metadata": {
        "id": "pvJQWAZIXTSr"
      }
    },
    {
      "cell_type": "code",
      "source": [
        "pca = PCA(num_of_componants= 100)\n",
        "compressed_img = pca.compress(preprocessed_img)\n"
      ],
      "metadata": {
        "id": "XTTiKChfQJoA"
      },
      "execution_count": null,
      "outputs": []
    },
    {
      "cell_type": "markdown",
      "source": [
        "## Reconstruct/Decompress the image"
      ],
      "metadata": {
        "id": "oJFpfT_DXfpQ"
      }
    },
    {
      "cell_type": "code",
      "source": [
        "reconstructed_img = pca.reconstruct(compressed_img, preprocessed_img)\n"
      ],
      "metadata": {
        "id": "0EJ8KFMKIPa8"
      },
      "execution_count": null,
      "outputs": []
    },
    {
      "cell_type": "markdown",
      "source": [
        "## Visualize the Compressed Image"
      ],
      "metadata": {
        "id": "Bi1VskYTXwhC"
      }
    },
    {
      "cell_type": "code",
      "source": [
        "pca.visualise_compressed_img(compressed_img)\n"
      ],
      "metadata": {
        "colab": {
          "base_uri": "https://localhost:8080/",
          "height": 367
        },
        "id": "1Fm0jdupJ0lj",
        "outputId": "24b0f8fb-0356-4cbc-ba86-7541b7b185d0"
      },
      "execution_count": null,
      "outputs": [
        {
          "output_type": "display_data",
          "data": {
            "text/plain": [
              "<Figure size 800x400 with 1 Axes>"
            ],
            "image/png": "[encoded data removed]"
          },
          "metadata": {}
        }
      ]
    },
    {
      "cell_type": "markdown",
      "source": [
        "## Visualize the Reconstructed/Recompressed Image"
      ],
      "metadata": {
        "id": "NxCdwMC5YE0E"
      }
    },
    {
      "cell_type": "code",
      "source": [
        "pca.visualise_decompressed_img(reconstructed_img)\n"
      ],
      "metadata": {
        "colab": {
          "base_uri": "https://localhost:8080/",
          "height": 341
        },
        "id": "mobMStSuIobC",
        "outputId": "3a91fe33-a192-41cc-93b7-47952647f569"
      },
      "execution_count": null,
      "outputs": [
        {
          "output_type": "display_data",
          "data": {
            "text/plain": [
              "<Figure size 800x400 with 1 Axes>"
            ],
            "image/png": "[encoded data removed]"
          },
          "metadata": {}
        }
      ]
    }
  ]
}